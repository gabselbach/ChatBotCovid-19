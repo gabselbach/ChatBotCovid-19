{
  "nbformat": 4,
  "nbformat_minor": 0,
  "metadata": {
    "colab": {
      "name": "fiocruz",
      "provenance": [],
      "collapsed_sections": [],
      "authorship_tag": "ABX9TyN06P/gH9HFSg59MrBW9Jfm",
      "include_colab_link": true
    },
    "kernelspec": {
      "name": "python3",
      "display_name": "Python 3"
    }
  },
  "cells": [
    {
      "cell_type": "markdown",
      "metadata": {
        "id": "view-in-github",
        "colab_type": "text"
      },
      "source": [
        "<a href=\"https://colab.research.google.com/github/gabselbach/ChatBotCovid-19/blob/main/fiocruz.ipynb\" target=\"_parent\"><img src=\"https://colab.research.google.com/assets/colab-badge.svg\" alt=\"Open In Colab\"/></a>"
      ]
    },
    {
      "cell_type": "markdown",
      "metadata": {
        "id": "kQcmAxg9y-2z"
      },
      "source": [
        "# Importação\n"
      ]
    },
    {
      "cell_type": "code",
      "metadata": {
        "id": "5cv9VDfyLrk8"
      },
      "source": [
        "import re\n",
        "import requests\n",
        "from bs4 import BeautifulSoup\n",
        "from google.colab import files"
      ],
      "execution_count": null,
      "outputs": []
    },
    {
      "cell_type": "markdown",
      "metadata": {
        "id": "qxyAMxDWzDEy"
      },
      "source": [
        "# Implementacao"
      ]
    },
    {
      "cell_type": "code",
      "metadata": {
        "id": "JpLKtvFPL3SU"
      },
      "source": [
        "page = requests.get('https://mooc.campusvirtual.fiocruz.br/rea/coronavirus/faq.html')\n",
        "soup = BeautifulSoup(page.text, 'html.parser')\n",
        "aba ='populacao'\n",
        "texto = soup.find('ul',{'id': 'accordion-faq-populacao'})\n",
        "perguntas = texto.find_all('a',{'class': 'collapsed'})\n",
        "respostas = texto.find_all('div',{'class': 'collapse'})\n",
        "descINT=''\n",
        "intents=''\n",
        "utter=''\n",
        "stories=''\n",
        "i=1\n",
        "j=0\n",
        "for x in perguntas:\n",
        "  p =  re.sub('\\n|  +|','', x.text)\n",
        "  p =  re.sub(\"[(|)]\",'',p)\n",
        "  resp =  respostas[j].text\n",
        "  #descricao intent para arq nlu.yml#\n",
        "  descINT+= '- intent: '+aba+''+str(i)+'\\n  examples: |\\n    - '+str(p)+\"\\n\"\n",
        "  intents+='- '+aba+''+str(i)+'\\n'\n",
        "  utter+= 'utter_'+aba+''+str(i)+':\\n  - text: |'+resp+'\\n'\n",
        "  stories+='- story: '+aba+''+str(i)+' storie\\n  steps:\\n  - intent: '+aba+''+str(i)+'\\n  - action: utter_'+aba+''+str(i)+'\\n\\n'\n",
        "  i+=1\n",
        "  j+=1\n",
        "  print(str(p),'\\n',resp,'\\n')\n",
        "#with open('populacao.txt', 'w') as writefile:\n",
        " #   writefile.write(doc)"
      ],
      "execution_count": null,
      "outputs": []
    },
    {
      "cell_type": "markdown",
      "metadata": {
        "id": "Md0iGnqXzLiK"
      },
      "source": [
        "Foi criado variáveis seguindo o padrão do rasa, então pode ser gerado um arquivo e ser colocado diretamente do rasa, talvez necessite de algumas pequenas alterações"
      ]
    }
  ]
}